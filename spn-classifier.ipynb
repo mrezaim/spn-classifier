{
 "cells": [
  {
   "cell_type": "code",
   "execution_count": 1,
   "metadata": {},
   "outputs": [],
   "source": [
    "import numpy as np\n",
    "import pandas as pd\n",
    "from spn.algorithms.LearningWrappers import learn_parametric, learn_classifier\n",
    "from spn.structure.leaves.parametric.Parametric import Categorical, Gaussian\n",
    "from spn.structure.Base import Context\n",
    "from spn.algorithms.MPE import mpe"
   ]
  },
  {
   "cell_type": "markdown",
   "metadata": {},
   "source": [
    "### Config"
   ]
  },
  {
   "cell_type": "code",
   "execution_count": 2,
   "metadata": {},
   "outputs": [],
   "source": [
    "use_gpu = False\n",
    "train_path = '/home/saber/Dropbox/Projects/kaggle/santander/dataset/train.csv'\n",
    "test_path = '/home/saber/Dropbox/Projects/kaggle/santander/dataset/test.csv'"
   ]
  },
  {
   "cell_type": "code",
   "execution_count": 3,
   "metadata": {},
   "outputs": [
    {
     "name": "stdout",
     "output_type": "stream",
     "text": [
      "[['test_0' 11.0656 7.7798 ... 10.72 15.4722 -8.7197]\n",
      " ['test_1' 8.5304 1.2543 ... 9.8714 19.1293 -20.976]\n",
      " ['test_2' 5.4827 -10.3581 ... 7.0618 19.8956 -23.1794]\n",
      " ...\n",
      " ['test_199997' 11.636 2.2769 ... 9.1933 11.7905 -22.2762]\n",
      " ['test_199998' 13.5745 -0.5134 ... 8.1079 8.7735 -0.2122]\n",
      " ['test_199999' 10.4664 1.807 ... 10.3378 14.334000000000001 -7.7094]]\n"
     ]
    }
   ],
   "source": [
    "# Read the CSV into a pandas data frame (df)\n",
    "dftr = pd.read_csv(train_path, delimiter=',')\n",
    "train_data = np.array(dftr)\n",
    "dfte = pd.read_csv(test_path, delimiter=',')\n",
    "test_data = np.array(dfte)\n",
    "\n",
    "print(test_data)"
   ]
  },
  {
   "cell_type": "code",
   "execution_count": 4,
   "metadata": {},
   "outputs": [
    {
     "name": "stdout",
     "output_type": "stream",
     "text": [
      "[  0.      11.5006  -4.1473  13.8588   5.389   12.3622   7.0433   5.6208\n",
      "  16.5338   3.1468   8.0851  -0.4032   8.0585  14.0239   8.4135   5.4345\n",
      "  13.7003  13.8275 -15.5849   7.8     28.5708   3.4287   2.7407   8.5524\n",
      "   3.3716   6.9779  13.891  -11.7684  -2.5586   5.0464   0.5481  -9.2987\n",
      "   7.8755   1.2859  19.371   11.3702   0.7399   2.7995   5.8434  10.816\n",
      "   3.6783 -11.1147   1.873    9.8775  11.7842   1.2444 -47.3797   7.3718\n",
      "   0.1948  34.4014  25.7037  11.8343  13.2256  -4.1083   6.6885  -8.0946\n",
      "  18.5995  19.3219   7.0118   1.921    8.8682   8.0109  -7.2417   1.7944\n",
      "  -1.3147   8.1042   1.5365   5.4007   7.9344   5.022    2.2302  40.5632\n",
      "   0.5134   3.1701  20.1068   7.7841   7.0529   3.2709  23.4822   5.5075\n",
      "  13.7814   2.5462  18.1782   0.3683  -4.821   -5.485   13.7867 -13.5901\n",
      "  11.0993   7.9022  12.2301   0.4768   6.8852   8.0905  10.9631  11.7569\n",
      "  -1.2722  24.7876  26.6881   1.8944   0.6939 -13.695    8.4068  35.4734\n",
      "   1.7093  15.1866   2.6227   7.3412  32.0888  13.955   13.0858   6.6203\n",
      "   7.1051   5.3523   8.5426   3.6159   4.1569   3.0454   7.8522 -11.51\n",
      "   7.5109  31.5899   9.5018   8.2736  10.1633   0.1225  12.5942  14.5697\n",
      "   2.4354   0.8194  16.5346  12.4205  -0.178    5.7582   7.0513   1.9568\n",
      "  -8.9921   9.7797  18.1577  -1.9721  16.1622   3.6937   6.6803  -0.3243\n",
      "  12.2806   8.6086  11.0738   8.9231  11.77     4.2578  -4.4223  20.6294\n",
      "  14.8743   9.4317  16.7242  -0.5687   0.1898  12.2419  -9.6953  22.3949\n",
      "  10.6261  29.4846   5.8683   3.8208  15.8348  -5.0121  15.1345   3.2003\n",
      "   9.3192   3.8821   5.7999   5.5378   5.0988  22.033    5.5134  30.2645\n",
      "  10.4968  -7.2352  16.5721  -7.3477  11.0752  -5.5937   9.4878 -14.91\n",
      "   9.4245  22.5441  -4.8622   7.6543 -15.9319  13.3175  -0.3566   7.6421\n",
      "   7.7214   2.5837  10.9516  15.4305   2.0339   8.1267   8.7889  18.356\n",
      "   1.9518]\n"
     ]
    }
   ],
   "source": [
    "#read csv files to arrays and convert types\n",
    "XX = train_data[:,1:(len(train_data[0]))]\n",
    "X = np.array(XX[1:200], dtype=np.float)\n",
    "#TODO: the first column as integer since is the binary class\n",
    "print(X[0])"
   ]
  },
  {
   "cell_type": "code",
   "execution_count": 5,
   "metadata": {},
   "outputs": [],
   "source": [
    "t = [Categorical]\n",
    "for i in range(200):\n",
    "\tt.append(Gaussian)\n",
    "#Learning on train data\n",
    "spn_classification = learn_classifier(X,\n",
    "                       Context(parametric_types=t).add_domains(X),\n",
    "                       learn_parametric, 0)"
   ]
  },
  {
   "cell_type": "code",
   "execution_count": 6,
   "metadata": {},
   "outputs": [],
   "source": [
    "TT = test_data[:,1:(len(test_data[0]))]\n",
    "R = test_data[:,[0]]"
   ]
  },
  {
   "cell_type": "code",
   "execution_count": 12,
   "metadata": {},
   "outputs": [],
   "source": [
    "T = np.array(TT, dtype=np.float)\n",
    "nan = np.array([[np.nan]]*200000)\n",
    "T = np.append(nan,T,axis=1)\n",
    "test_classification = T"
   ]
  },
  {
   "cell_type": "code",
   "execution_count": 13,
   "metadata": {},
   "outputs": [],
   "source": [
    "mpe_classes = mpe(spn_classification, test_classification)"
   ]
  },
  {
   "cell_type": "code",
   "execution_count": 14,
   "metadata": {},
   "outputs": [
    {
     "name": "stdout",
     "output_type": "stream",
     "text": [
      "[[  0.      11.0656   7.7798 ...  10.72    15.4722  -8.7197]\n",
      " [  0.       8.5304   1.2543 ...   9.8714  19.1293 -20.976 ]\n",
      " [  0.       5.4827 -10.3581 ...   7.0618  19.8956 -23.1794]\n",
      " ...\n",
      " [  0.      11.636    2.2769 ...   9.1933  11.7905 -22.2762]\n",
      " [  0.      13.5745  -0.5134 ...   8.1079   8.7735  -0.2122]\n",
      " [  0.      10.4664   1.807  ...  10.3378  14.334   -7.7094]]\n"
     ]
    }
   ],
   "source": [
    "print(mpe_classes)"
   ]
  },
  {
   "cell_type": "code",
   "execution_count": 24,
   "metadata": {},
   "outputs": [
    {
     "name": "stdout",
     "output_type": "stream",
     "text": [
      "200000\n",
      "237\n"
     ]
    }
   ],
   "source": [
    "count = 0\n",
    "for i in mpe_classes:\n",
    "    if (i[0] == 1.0):\n",
    "        count+=1\n",
    "\n",
    "print(len(mpe_classes))\n",
    "print(count)\n",
    "    \n",
    "#     if (str(i[0]) ==\"1.0\"):\n",
    "#         print(i)"
   ]
  },
  {
   "cell_type": "code",
   "execution_count": null,
   "metadata": {},
   "outputs": [],
   "source": []
  }
 ],
 "metadata": {
  "kernelspec": {
   "display_name": "Python [conda env:env-spn]",
   "language": "python",
   "name": "conda-env-env-spn-py"
  },
  "language_info": {
   "codemirror_mode": {
    "name": "ipython",
    "version": 3
   },
   "file_extension": ".py",
   "mimetype": "text/x-python",
   "name": "python",
   "nbconvert_exporter": "python",
   "pygments_lexer": "ipython3",
   "version": "3.7.3"
  }
 },
 "nbformat": 4,
 "nbformat_minor": 2
}
