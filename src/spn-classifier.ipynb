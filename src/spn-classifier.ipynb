{
 "cells": [
  {
   "cell_type": "code",
   "execution_count": 38,
   "metadata": {},
   "outputs": [],
   "source": [
    "import numpy as np\n",
    "import pandas as pd\n",
    "from sklearn.model_selection import train_test_split\n",
    "from spn.algorithms.LearningWrappers import learn_parametric, learn_classifier\n",
    "from spn.structure.leaves.parametric.Parametric import Categorical, Gaussian\n",
    "from spn.structure.Base import Context\n",
    "from spn.algorithms.MPE import mpe"
   ]
  },
  {
   "cell_type": "markdown",
   "metadata": {},
   "source": [
    "### Config"
   ]
  },
  {
   "cell_type": "code",
   "execution_count": 39,
   "metadata": {},
   "outputs": [],
   "source": [
    "use_gpu = False\n",
    "train_path = '/home/saber/Dropbox/Projects/kaggle/santander/dataset/train.csv'\n",
    "test_path = '/home/saber/Dropbox/Projects/kaggle/santander/dataset/test.csv'"
   ]
  },
  {
   "cell_type": "code",
   "execution_count": 40,
   "metadata": {},
   "outputs": [],
   "source": [
    "# Read the CSV into a pandas data frame (df)\n",
    "dftr = pd.read_csv(train_path, delimiter=',')\n",
    "train_data = np.array(dftr)\n",
    "# dfte = pd.read_csv(test_path, delimiter=',')\n",
    "# test_data = np.array(dfte)\n",
    "\n",
    "# print(test_data)"
   ]
  },
  {
   "cell_type": "code",
   "execution_count": null,
   "metadata": {},
   "outputs": [],
   "source": []
  },
  {
   "cell_type": "code",
   "execution_count": 48,
   "metadata": {},
   "outputs": [
    {
     "name": "stdout",
     "output_type": "stream",
     "text": [
      "[  0.      11.5006  -4.1473  13.8588   5.389   12.3622   7.0433   5.6208\n",
      "  16.5338   3.1468   8.0851  -0.4032   8.0585  14.0239   8.4135   5.4345\n",
      "  13.7003  13.8275 -15.5849   7.8     28.5708   3.4287   2.7407   8.5524\n",
      "   3.3716   6.9779  13.891  -11.7684  -2.5586   5.0464   0.5481  -9.2987\n",
      "   7.8755   1.2859  19.371   11.3702   0.7399   2.7995   5.8434  10.816\n",
      "   3.6783 -11.1147   1.873    9.8775  11.7842   1.2444 -47.3797   7.3718\n",
      "   0.1948  34.4014  25.7037  11.8343  13.2256  -4.1083   6.6885  -8.0946\n",
      "  18.5995  19.3219   7.0118   1.921    8.8682   8.0109  -7.2417   1.7944\n",
      "  -1.3147   8.1042   1.5365   5.4007   7.9344   5.022    2.2302  40.5632\n",
      "   0.5134   3.1701  20.1068   7.7841   7.0529   3.2709  23.4822   5.5075\n",
      "  13.7814   2.5462  18.1782   0.3683  -4.821   -5.485   13.7867 -13.5901\n",
      "  11.0993   7.9022  12.2301   0.4768   6.8852   8.0905  10.9631  11.7569\n",
      "  -1.2722  24.7876  26.6881   1.8944   0.6939 -13.695    8.4068  35.4734\n",
      "   1.7093  15.1866   2.6227   7.3412  32.0888  13.955   13.0858   6.6203\n",
      "   7.1051   5.3523   8.5426   3.6159   4.1569   3.0454   7.8522 -11.51\n",
      "   7.5109  31.5899   9.5018   8.2736  10.1633   0.1225  12.5942  14.5697\n",
      "   2.4354   0.8194  16.5346  12.4205  -0.178    5.7582   7.0513   1.9568\n",
      "  -8.9921   9.7797  18.1577  -1.9721  16.1622   3.6937   6.6803  -0.3243\n",
      "  12.2806   8.6086  11.0738   8.9231  11.77     4.2578  -4.4223  20.6294\n",
      "  14.8743   9.4317  16.7242  -0.5687   0.1898  12.2419  -9.6953  22.3949\n",
      "  10.6261  29.4846   5.8683   3.8208  15.8348  -5.0121  15.1345   3.2003\n",
      "   9.3192   3.8821   5.7999   5.5378   5.0988  22.033    5.5134  30.2645\n",
      "  10.4968  -7.2352  16.5721  -7.3477  11.0752  -5.5937   9.4878 -14.91\n",
      "   9.4245  22.5441  -4.8622   7.6543 -15.9319  13.3175  -0.3566   7.6421\n",
      "   7.7214   2.5837  10.9516  15.4305   2.0339   8.1267   8.7889  18.356\n",
      "   1.9518]\n"
     ]
    }
   ],
   "source": [
    "#read csv files to arrays and convert types\n",
    "XX = train_data[:,1:(len(train_data[0]))]\n",
    "X = np.array(XX[1:200], dtype=np.float)\n",
    "#TODO: the first column as integer since is the binary class\n",
    "print(X[0])\n",
    "X_train, X_test = X[:100000,:], X[100000:,:]"
   ]
  },
  {
   "cell_type": "code",
   "execution_count": 49,
   "metadata": {},
   "outputs": [],
   "source": [
    "t = [Categorical]\n",
    "for i in range(200):\n",
    "\tt.append(Gaussian)\n",
    "#Learning on train data\n",
    "spn_classification = learn_classifier(X,\n",
    "                       Context(parametric_types=t).add_domains(X_train),\n",
    "                       learn_parametric, 0)"
   ]
  },
  {
   "cell_type": "code",
   "execution_count": 51,
   "metadata": {},
   "outputs": [
    {
     "ename": "IndexError",
     "evalue": "index 0 is out of bounds for axis 0 with size 0",
     "output_type": "error",
     "traceback": [
      "\u001b[0;31m---------------------------------------------------------------------------\u001b[0m",
      "\u001b[0;31mIndexError\u001b[0m                                Traceback (most recent call last)",
      "\u001b[0;32m<ipython-input-51-27173594d0bf>\u001b[0m in \u001b[0;36m<module>\u001b[0;34m\u001b[0m\n\u001b[1;32m      1\u001b[0m \u001b[0;31m# TT = test_data[:,1:(len(test_data[0]))]\u001b[0m\u001b[0;34m\u001b[0m\u001b[0;34m\u001b[0m\u001b[0;34m\u001b[0m\u001b[0m\n\u001b[1;32m      2\u001b[0m \u001b[0;31m# R = test_data[:,[0]]\u001b[0m\u001b[0;34m\u001b[0m\u001b[0;34m\u001b[0m\u001b[0;34m\u001b[0m\u001b[0m\n\u001b[0;32m----> 3\u001b[0;31m \u001b[0mprint\u001b[0m\u001b[0;34m(\u001b[0m\u001b[0mX_test\u001b[0m\u001b[0;34m[\u001b[0m\u001b[0;36m0\u001b[0m\u001b[0;34m]\u001b[0m\u001b[0;34m)\u001b[0m\u001b[0;34m\u001b[0m\u001b[0;34m\u001b[0m\u001b[0m\n\u001b[0m\u001b[1;32m      4\u001b[0m \u001b[0mprint\u001b[0m\u001b[0;34m(\u001b[0m\u001b[0mX_train\u001b[0m\u001b[0;34m[\u001b[0m\u001b[0;36m0\u001b[0m\u001b[0;34m]\u001b[0m\u001b[0;34m)\u001b[0m\u001b[0;34m\u001b[0m\u001b[0;34m\u001b[0m\u001b[0m\n",
      "\u001b[0;31mIndexError\u001b[0m: index 0 is out of bounds for axis 0 with size 0"
     ]
    }
   ],
   "source": [
    "# TT = test_data[:,1:(len(test_data[0]))]\n",
    "# R = test_data[:,[0]]\n",
    "print(X_test[0])\n",
    "print(X_train[0])"
   ]
  },
  {
   "cell_type": "code",
   "execution_count": 44,
   "metadata": {},
   "outputs": [
    {
     "ename": "ValueError",
     "evalue": "all the input array dimensions except for the concatenation axis must match exactly",
     "output_type": "error",
     "traceback": [
      "\u001b[0;31m---------------------------------------------------------------------------\u001b[0m",
      "\u001b[0;31mValueError\u001b[0m                                Traceback (most recent call last)",
      "\u001b[0;32m<ipython-input-44-0c1041685537>\u001b[0m in \u001b[0;36m<module>\u001b[0;34m\u001b[0m\n\u001b[1;32m      1\u001b[0m \u001b[0;31m# T = np.array(TT, dtype=np.float)\u001b[0m\u001b[0;34m\u001b[0m\u001b[0;34m\u001b[0m\u001b[0;34m\u001b[0m\u001b[0m\n\u001b[1;32m      2\u001b[0m \u001b[0mnan\u001b[0m \u001b[0;34m=\u001b[0m \u001b[0mnp\u001b[0m\u001b[0;34m.\u001b[0m\u001b[0marray\u001b[0m\u001b[0;34m(\u001b[0m\u001b[0;34m[\u001b[0m\u001b[0;34m[\u001b[0m\u001b[0mnp\u001b[0m\u001b[0;34m.\u001b[0m\u001b[0mnan\u001b[0m\u001b[0;34m]\u001b[0m\u001b[0;34m]\u001b[0m\u001b[0;34m*\u001b[0m\u001b[0;36m200000\u001b[0m\u001b[0;34m)\u001b[0m\u001b[0;34m\u001b[0m\u001b[0;34m\u001b[0m\u001b[0m\n\u001b[0;32m----> 3\u001b[0;31m \u001b[0mT\u001b[0m \u001b[0;34m=\u001b[0m \u001b[0mnp\u001b[0m\u001b[0;34m.\u001b[0m\u001b[0mappend\u001b[0m\u001b[0;34m(\u001b[0m\u001b[0mnan\u001b[0m\u001b[0;34m,\u001b[0m\u001b[0mX_test\u001b[0m\u001b[0;34m,\u001b[0m\u001b[0maxis\u001b[0m\u001b[0;34m=\u001b[0m\u001b[0;36m1\u001b[0m\u001b[0;34m)\u001b[0m\u001b[0;34m\u001b[0m\u001b[0;34m\u001b[0m\u001b[0m\n\u001b[0m\u001b[1;32m      4\u001b[0m \u001b[0mtest_classification\u001b[0m \u001b[0;34m=\u001b[0m \u001b[0mT\u001b[0m\u001b[0;34m\u001b[0m\u001b[0;34m\u001b[0m\u001b[0m\n",
      "\u001b[0;32m~/anaconda3/envs/env-spn/lib/python3.7/site-packages/numpy/lib/function_base.py\u001b[0m in \u001b[0;36mappend\u001b[0;34m(arr, values, axis)\u001b[0m\n\u001b[1;32m   4692\u001b[0m         \u001b[0mvalues\u001b[0m \u001b[0;34m=\u001b[0m \u001b[0mravel\u001b[0m\u001b[0;34m(\u001b[0m\u001b[0mvalues\u001b[0m\u001b[0;34m)\u001b[0m\u001b[0;34m\u001b[0m\u001b[0;34m\u001b[0m\u001b[0m\n\u001b[1;32m   4693\u001b[0m         \u001b[0maxis\u001b[0m \u001b[0;34m=\u001b[0m \u001b[0marr\u001b[0m\u001b[0;34m.\u001b[0m\u001b[0mndim\u001b[0m\u001b[0;34m-\u001b[0m\u001b[0;36m1\u001b[0m\u001b[0;34m\u001b[0m\u001b[0;34m\u001b[0m\u001b[0m\n\u001b[0;32m-> 4694\u001b[0;31m     \u001b[0;32mreturn\u001b[0m \u001b[0mconcatenate\u001b[0m\u001b[0;34m(\u001b[0m\u001b[0;34m(\u001b[0m\u001b[0marr\u001b[0m\u001b[0;34m,\u001b[0m \u001b[0mvalues\u001b[0m\u001b[0;34m)\u001b[0m\u001b[0;34m,\u001b[0m \u001b[0maxis\u001b[0m\u001b[0;34m=\u001b[0m\u001b[0maxis\u001b[0m\u001b[0;34m)\u001b[0m\u001b[0;34m\u001b[0m\u001b[0;34m\u001b[0m\u001b[0m\n\u001b[0m\u001b[1;32m   4695\u001b[0m \u001b[0;34m\u001b[0m\u001b[0m\n\u001b[1;32m   4696\u001b[0m \u001b[0;34m\u001b[0m\u001b[0m\n",
      "\u001b[0;31mValueError\u001b[0m: all the input array dimensions except for the concatenation axis must match exactly"
     ]
    }
   ],
   "source": [
    "# T = np.array(TT, dtype=np.float)\n",
    "nan = np.array([[np.nan]]*200000)\n",
    "T = np.append(nan,X_test,axis=1)\n",
    "test_classification = T"
   ]
  },
  {
   "cell_type": "code",
   "execution_count": 13,
   "metadata": {},
   "outputs": [],
   "source": [
    "mpe_classes = mpe(spn_classification, test_classification)"
   ]
  },
  {
   "cell_type": "code",
   "execution_count": 14,
   "metadata": {},
   "outputs": [
    {
     "name": "stdout",
     "output_type": "stream",
     "text": [
      "[[  0.      11.0656   7.7798 ...  10.72    15.4722  -8.7197]\n",
      " [  0.       8.5304   1.2543 ...   9.8714  19.1293 -20.976 ]\n",
      " [  0.       5.4827 -10.3581 ...   7.0618  19.8956 -23.1794]\n",
      " ...\n",
      " [  0.      11.636    2.2769 ...   9.1933  11.7905 -22.2762]\n",
      " [  0.      13.5745  -0.5134 ...   8.1079   8.7735  -0.2122]\n",
      " [  0.      10.4664   1.807  ...  10.3378  14.334   -7.7094]]\n"
     ]
    }
   ],
   "source": [
    "print(mpe_classes)"
   ]
  },
  {
   "cell_type": "code",
   "execution_count": 24,
   "metadata": {},
   "outputs": [
    {
     "name": "stdout",
     "output_type": "stream",
     "text": [
      "200000\n",
      "237\n"
     ]
    }
   ],
   "source": [
    "count = 0\n",
    "for i in mpe_classes:\n",
    "    if (i[0] == 1.0):\n",
    "        count+=1\n",
    "\n",
    "print(len(mpe_classes))\n",
    "print(count)\n",
    "    \n",
    "#     if (str(i[0]) ==\"1.0\"):\n",
    "#         print(i)"
   ]
  },
  {
   "cell_type": "code",
   "execution_count": 25,
   "metadata": {},
   "outputs": [
    {
     "name": "stdout",
     "output_type": "stream",
     "text": [
      "200000\n"
     ]
    }
   ],
   "source": [
    "print(len(test_data))"
   ]
  },
  {
   "cell_type": "code",
   "execution_count": 34,
   "metadata": {},
   "outputs": [
    {
     "name": "stdout",
     "output_type": "stream",
     "text": [
      "['train_0' 0 8.9255 -6.7863 11.9081 5.093 11.4607 -9.2834 5.1187 18.6266\n",
      " -4.92 5.747000000000001 2.9252 3.1821 14.0137 0.5745 8.7989 14.5691\n",
      " 5.7487 -7.2393 4.284 30.7133 10.535 16.2191 2.5791 2.4716 14.3831 13.4325\n",
      " -5.1488 -0.4073 4.9306 5.9965 -0.3085 12.9041 -3.8766 16.8911 11.192\n",
      " 10.5785 0.6764 7.8871 4.6667 3.8743 -5.2387 7.3746 11.5767 12.0446\n",
      " 11.6418 -7.017 5.9226 -14.2136 16.0283 5.3253 12.9194 29.046\n",
      " -0.6940000000000001 5.1736 -0.7474 14.8322 11.2668 5.3822 2.0183 10.1166\n",
      " 16.1828 4.959 2.0771 -0.2154 8.6748 9.5319 5.8056 22.4321 5.0109\n",
      " -4.7010000000000005 21.6374 0.5663 5.1999 8.86 43.1127 18.3816 -2.344\n",
      " 23.4104 6.5199 12.1983 13.6468 13.8372 1.3675 2.9423 -4.5213 21.4669\n",
      " 9.3225 16.4597 7.9984 -1.7069 -21.4494 6.7806 11.0924 9.9913 14.8421\n",
      " 0.1812 8.9642 16.2572 2.1743 -3.4132 9.4763 13.3102 26.5376 1.4403 14.71\n",
      " 6.0454 9.5426 17.1554 14.1104 24.3627 2.0323 6.7602 3.9141 -0.4851 2.524\n",
      " 1.5093 2.5516 15.5752 -13.4221 7.2739 16.0094 9.7268 0.8897 0.7754 4.2218\n",
      " 12.0039 13.8571 -0.7338 -1.9245 15.4462 12.8287 0.3587 9.6508 6.5674\n",
      " 5.1726 3.1345 29.4547 31.4045 2.8279 15.6599 8.3307 -5.6011 19.0614\n",
      " 11.2663 8.6989 8.3694 11.5659 -16.4727 4.0288 17.9244 18.5177 10.78\n",
      " 9.0056 16.6964 10.4838 1.6573 12.1749 -13.1324 17.6054 11.5423 15.4576\n",
      " 5.3133 3.6159 5.0384 6.676 12.6644 2.7004 -0.6975 9.5981 5.4879 -4.7645\n",
      " -8.4254 20.8773 3.1531 18.5618 7.7423 -10.1245 13.7241 -3.5189 1.7202\n",
      " -8.4051 9.0164 3.0657 14.3691 25.8398 5.8764 11.8411 -19.7159 17.5743\n",
      " 0.5857 4.4354 3.9642 3.1364 1.6909999999999998 18.5227 -2.3978 7.8784\n",
      " 8.5635 12.7803 -1.0914]\n"
     ]
    }
   ],
   "source": [
    "print(train_data[0])"
   ]
  },
  {
   "cell_type": "code",
   "execution_count": null,
   "metadata": {},
   "outputs": [],
   "source": []
  }
 ],
 "metadata": {
  "kernelspec": {
   "display_name": "Python [conda env:env-spn]",
   "language": "python",
   "name": "conda-env-env-spn-py"
  },
  "language_info": {
   "codemirror_mode": {
    "name": "ipython",
    "version": 3
   },
   "file_extension": ".py",
   "mimetype": "text/x-python",
   "name": "python",
   "nbconvert_exporter": "python",
   "pygments_lexer": "ipython3",
   "version": "3.7.3"
  }
 },
 "nbformat": 4,
 "nbformat_minor": 2
}
