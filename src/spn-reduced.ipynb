{
 "cells": [
  {
   "cell_type": "code",
   "execution_count": 39,
   "metadata": {},
   "outputs": [],
   "source": [
    "import numpy as np\n",
    "import csv\n",
    "import numpy\n",
    "from scipy import stats\n",
    "from numpy import loadtxt\n",
    "from sklearn.model_selection import train_test_split\n",
    "from sklearn.model_selection import StratifiedKFold\n",
    "from sklearn.ensemble import ExtraTreesClassifier\n",
    "import pandas as pd\n",
    "from sklearn.preprocessing import StandardScaler\n",
    "from sklearn.utils import class_weight\n",
    "from sklearn.metrics import confusion_matrix\n",
    "from sklearn.tree import DecisionTreeClassifier # Import Decision Tree Classifier\n",
    "from sklearn.model_selection import train_test_split # Import train_test_split function\n",
    "from sklearn import metrics #Import scikit-learn metrics module for accuracy calculation\n",
    "from sklearn.ensemble import RandomForestRegressor\n",
    "from sklearn.feature_selection import SelectFromModel"
   ]
  },
  {
   "cell_type": "code",
   "execution_count": 40,
   "metadata": {},
   "outputs": [],
   "source": [
    "seed = 5\n",
    "numpy.random.seed(seed)\n",
    "\n",
    "# Read the CSV into a pandas data frame (df)\n",
    "dftr = pd.read_csv('train.csv',nrows=50, delimiter=',')\n",
    "train_data = np.array(dftr)\n",
    "dfte = pd.read_csv('test.csv',nrows=50, delimiter=',')\n",
    "test_data = np.array(dfte)"
   ]
  },
  {
   "cell_type": "code",
   "execution_count": 41,
   "metadata": {},
   "outputs": [],
   "source": [
    "#Detecting and Removing outliers\n",
    "train_data = np.array(train_data[:,1:(len(train_data[0]))], dtype=np.float)\n",
    "#uncomment to see different z score outlier removal results\n",
    "# z2_traindata = train_data[(np.abs(stats.zscore(train_data)) < 2).all(axis=1)]\n",
    "# print(\"Z<2:\",len(z2_traindata), \"Class 1:\",np.count_nonzero(z2_traindata[:,[0]] == 1))\n",
    "\n",
    "# z25_traindata = train_data[(np.abs(stats.zscore(train_data)) < 2.5).all(axis=1)]\n",
    "# print(\"Z<2.5:\",len(z25_traindata), \"Class 1:\",np.count_nonzero(z25_traindata[:,[0]] == 1))\n",
    "\n",
    "# z3_traindata = train_data[(np.abs(stats.zscore(train_data)) < 3).all(axis=1)]\n",
    "# print(\"Z<3:\",len(z3_traindata), \"Class 1:\",np.count_nonzero(z3_traindata[:,[0]] == 1))\n",
    "\n",
    "# z4_traindata = train_data[(np.abs(stats.zscore(train_data)) < 4).all(axis=1)]\n",
    "# print(\"Z<4:\",len(z4_traindata), \"Class 1:\",np.count_nonzero(z4_traindata[:,[0]] == 1))\n",
    "\n",
    "# z5_traindata = train_data[(np.abs(stats.zscore(train_data)) < 5).all(axis=1)]\n",
    "# print(\"Z<5:\",len(z5_traindata), \"Class 1:\",np.count_nonzero(z5_traindata[:,[0]] == 1))"
   ]
  },
  {
   "cell_type": "code",
   "execution_count": 82,
   "metadata": {},
   "outputs": [
    {
     "name": "stdout",
     "output_type": "stream",
     "text": [
      "48\n"
     ]
    }
   ],
   "source": [
    "#27 features\n",
    "sel_f = np.array([True,True, True, True, False, False, False, True, False, False, False, False, False, True, True, False, False, False, False, False, False, False, True, True, False, False, False, True, False, False, False, False, False, False, False, True, False, False, False, False, False, False, False, False, False, False, False, False, False, False, False, False, False, False, True, False, False, False, False, False, False, False, False, False, False, False, False, False, False, False, False, False, False, False, False, False, False, True, False, False, False, True, True, False, False, False, False, False, False, False, False, False, False, False, False, False, False, False, False, False, True, False, False, False, False, False, False, False, False, False, False, True, False, False, False, False, True, False, False, False, False, False, False, False, False, False, False, False, False, False, False, False, False, False, True, False, False, False, False, False, True, False, False, False, False, False, False, True, False, True, False, False, False, False, False, False, False, False, False, False, False, False, False, False, False, False, True, True, False, False, False, False, False, False, False, True, False, False, False, False, True, False, False, False, False, False, False, False, False, False, False, True, False, False, False, False, False, False, False, True,False])\n",
    "print(len(X))\n",
    "TT = test_data[:,1:(len(test_data[0]))]\n",
    "T = np.array(TT, dtype=np.float)\n",
    "# T = T[:,sel_f]\n",
    "X = X[:,sel_f]\n",
    "\n",
    "# train_data = train_data[(np.abs(stats.zscore(train_data)) < 4).all(axis=1)]\n",
    "# #read csv files to arrays and convert types\n",
    "# XX = train_data[:,0:(len(train_data[0]))]\n",
    "# X = np.array(XX, dtype=np.float)"
   ]
  },
  {
   "cell_type": "code",
   "execution_count": 83,
   "metadata": {},
   "outputs": [],
   "source": [
    "from spn.algorithms.LearningWrappers import learn_parametric, learn_classifier\n",
    "from spn.structure.leaves.parametric.Parametric import Categorical, Gaussian\n",
    "from spn.structure.Base import Context"
   ]
  },
  {
   "cell_type": "code",
   "execution_count": null,
   "metadata": {},
   "outputs": [],
   "source": [
    "\n",
    "#27 features\n",
    "# sel_f_corr = np.array([True, True, True, False, False, False, True, False, False, False, False, False, True, True, False, False, False, False, False, False, False, True, True, False, False, False, True, False, False, False, False, False, False, False, True, False, False, False, False, False, False, False, False, False, False, False, False, False, False, False, False, False, False, True, False, False, False, False, False, False, False, False, False, False, False, False, False, False, False, False, False, False, False, False, False, False, True, False, False, False, True, True, False, False, False, False, False, False, False, False, False, False, False, False, False, False, False, False, False, True, False, False, False, False, False, False, False, False, False, False, True, False, False, False, False, True, False, False, False, False, False, False, False, False, False, False, False, False, False, False, False, False, False, True, False, False, False, False, False, True, False, False, False, False, False, False, True, False, True, False, False, False, False, False, False, False, False, False, False, False, False, False, False, False, False, True, True, False, False, False, False, False, False, False, True, False, False, False, False, True, False, False, False, False, False, False, False, False, False, False, True, False, False, False, False, False, False, False, True, False])\n",
    "\n",
    "t = [Categorical]\n",
    "for i in range(27):\n",
    "\tt.append(Gaussian)\n",
    "\n",
    "#Learning on train data\n",
    "spn_classification = learn_classifier(X, Context(parametric_types=t).add_domains(X), learn_parametric, 0)\n",
    "\n",
    "\n",
    "# TT = test_data[:,1:(len(test_data[0]))]\n",
    "# R = test_data[:,[0]]\n",
    "\n",
    "# T = np.array(TT, dtype=np.float)\n",
    "# nan = np.array([[np.nan]]*(len(train_data) + len(test_data)))\n",
    "# T = np.append(nan,T,axis=1)\n",
    "# test_classification = T"
   ]
  },
  {
   "cell_type": "code",
   "execution_count": 24,
   "metadata": {},
   "outputs": [
    {
     "data": {
      "text/plain": [
       "201"
      ]
     },
     "execution_count": 24,
     "metadata": {},
     "output_type": "execute_result"
    }
   ],
   "source": [
    "(len(test_data[0]))\n",
    "T = T[:,sel_f]"
   ]
  },
  {
   "cell_type": "code",
   "execution_count": null,
   "metadata": {},
   "outputs": [],
   "source": []
  }
 ],
 "metadata": {
  "kernelspec": {
   "display_name": "Python [conda env:env-gensim]",
   "language": "python",
   "name": "conda-env-env-gensim-py"
  },
  "language_info": {
   "codemirror_mode": {
    "name": "ipython",
    "version": 3
   },
   "file_extension": ".py",
   "mimetype": "text/x-python",
   "name": "python",
   "nbconvert_exporter": "python",
   "pygments_lexer": "ipython3",
   "version": "3.6.8"
  }
 },
 "nbformat": 4,
 "nbformat_minor": 2
}
